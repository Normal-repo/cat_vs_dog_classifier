{
  "cells": [
    {
      "cell_type": "code",
      "execution_count": null,
      "metadata": {
        "id": "sUsU-VHKimXN"
      },
      "outputs": [],
      "source": [
        "!pip install kaggle\n",
        "import tensorflow as tf\n",
        "from tensorflow import keras\n",
        "from tensorflow.keras import layers\n",
        "from tensorflow.keras.models import Sequential\n",
        "from tensorflow.keras.callbacks import EarlyStopping"
      ]
    },
    {
      "cell_type": "code",
      "execution_count": null,
      "metadata": {
        "id": "6EI_vgTRI8P1"
      },
      "outputs": [],
      "source": [
        "#download kaggle.json from your Kaggle account (api token )\n",
        "\n",
        "!mkdir -p ~/.kaggle\n",
        "!cp kaggle.json ~/.kaggle/\n",
        "!chmod 600 ~/.kaggle/kaggle.json\n",
        "!kaggle datasets download -d salader/dogs-vs-cats # Download dataset"
      ]
    },
    {
      "cell_type": "code",
      "execution_count": null,
      "metadata": {
        "id": "Dw5Uty4LKS3d"
      },
      "outputs": [],
      "source": [
        "!unzip -q /content/dogs-vs-cats.zip -d /content/dogs-vs-cats # Unzip dataset\n"
      ]
    },
    {
      "cell_type": "code",
      "execution_count": null,
      "metadata": {
        "id": "cHIb3qbFLBB7"
      },
      "outputs": [],
      "source": [
        "\n",
        "import tensorflow as tf\n",
        "from tensorflow import keras\n",
        "import pandas as pd"
      ]
    },
    {
      "cell_type": "code",
      "execution_count": null,
      "metadata": {
        "id": "y-eXR0ezL_GF"
      },
      "outputs": [],
      "source": [
        "from tensorflow.keras.layers import Conv2D, MaxPooling2D, Flatten, Dense, Dropout, BatchNormalization\n",
        "\n",
        "from keras.models import Sequential\n",
        "from tensorflow.keras.preprocessing.image import ImageDataGenerator"
      ]
    },
    {
      "cell_type": "code",
      "execution_count": null,
      "metadata": {
        "colab": {
          "base_uri": "https://localhost:8080/"
        },
        "id": "1Z2amX74MDsA",
        "outputId": "3453768e-7e5c-4897-a274-935354c64200"
      },
      "outputs": [],
      "source": [
        "train_ds = keras.utils.image_dataset_from_directory(\n",
        "    directory=r\"/content/dogs-vs-cats/train\",\n",
        "    labels='inferred',\n",
        "    label_mode='int',\n",
        "    batch_size=64,\n",
        "    image_size=(128, 128)\n",
        ")\n",
        "\n",
        "validation_ds = keras.utils.image_dataset_from_directory(\n",
        "    directory=r\"/content/dogs-vs-cats/test\",\n",
        "    labels='inferred',\n",
        "    label_mode='int',\n",
        "    batch_size=32,\n",
        "    image_size=(128, 128)\n",
        ")"
      ]
    },
    {
      "cell_type": "code",
      "execution_count": null,
      "metadata": {
        "id": "7-O_HOvRMVMr"
      },
      "outputs": [],
      "source": [
        "\n",
        "\n",
        "#augmentation\n",
        "data_augmentation = tf.keras.Sequential([\n",
        "    layers.RandomFlip(\"horizontal\"),\n",
        "    layers.RandomRotation(0.1),\n",
        "    layers.RandomZoom(0.1),\n",
        "    layers.RandomContrast(0.1),\n",
        "])\n",
        "\n",
        "def process(image, label):\n",
        "    image = tf.cast(image, tf.float32) / 255.0  # Normalize to [0, 1]\n",
        "    return image, label\n",
        "\n",
        "\n",
        "# Apply normalization and augmentation to train_ds only\n",
        "train_ds = train_ds.map(process).map(lambda x, y: (data_augmentation(x, training=True), y))\n",
        "\n",
        "validation_ds = validation_ds.map(process)\n",
        "\n"
      ]
    },
    {
      "cell_type": "markdown",
      "metadata": {
        "id": "4OYsVuk-mF9b"
      },
      "source": []
    },
    {
      "cell_type": "code",
      "execution_count": null,
      "metadata": {
        "id": "vMRxxUZbMZD8"
      },
      "outputs": [],
      "source": [
        "\n",
        "\n",
        "# Define the CNN model\n",
        "cnn = Sequential()\n",
        "\n",
        "\n",
        "\n",
        "\n",
        "\n",
        "cnn.add(Conv2D(32, kernel_size=(3,3), padding='valid', activation='relu', input_shape=(128,128,3)))\n",
        "cnn.add(MaxPooling2D(pool_size=(2,2), strides=2, padding='valid'))\n",
        "cnn.add(BatchNormalization())\n",
        "cnn.add(Dropout(0.25))\n",
        "\n",
        "cnn.add(Conv2D(64, kernel_size=(3,3), padding='valid', activation='relu'))\n",
        "cnn.add(MaxPooling2D(pool_size=(2,2), strides=2, padding='valid'))\n",
        "cnn.add(BatchNormalization())\n",
        "cnn.add(Dropout(0.25))\n",
        "\n",
        "cnn.add(Conv2D(128, kernel_size=(3,3), padding='valid', activation='relu'))\n",
        "cnn.add(MaxPooling2D(pool_size=(2,2), strides=2, padding='valid'))\n",
        "cnn.add(BatchNormalization())\n",
        "cnn.add(Dropout(0.25))\n",
        "\n",
        "cnn.add(Flatten())\n",
        "\n",
        "cnn.add(Dense(128, activation='relu'))\n",
        "cnn.add(Dropout(0.5))\n",
        "cnn.add(Dense(64, activation='relu'))\n",
        "cnn.add(Dropout(0.3))\n",
        "cnn.add(Dense(1, activation='sigmoid'))  # binary classification\n"
      ]
    },
    {
      "cell_type": "code",
      "execution_count": null,
      "metadata": {
        "colab": {
          "base_uri": "https://localhost:8080/",
          "height": 753
        },
        "id": "1jtfFSuaMbh_",
        "outputId": "e4281961-88aa-4525-86c0-8791b46e832f"
      },
      "outputs": [],
      "source": [
        "cnn.summary()"
      ]
    },
    {
      "cell_type": "code",
      "execution_count": null,
      "metadata": {
        "id": "d7LSEixMMdo5"
      },
      "outputs": [],
      "source": [
        "cnn.compile(optimizer='adam' ,loss='binary_crossentropy',metrics=['accuracy'])"
      ]
    },
    {
      "cell_type": "code",
      "execution_count": null,
      "metadata": {
        "colab": {
          "base_uri": "https://localhost:8080/"
        },
        "id": "lUyVAtvqMj9J",
        "outputId": "09fbf63e-fce5-42e7-d2db-0109199f846c"
      },
      "outputs": [],
      "source": [
        "from tensorflow.keras.callbacks import EarlyStopping\n",
        "\n",
        "early_stop = EarlyStopping(\n",
        "    monitor='val_loss',\n",
        "    patience=2,\n",
        "    restore_best_weights=True\n",
        ")\n",
        "\n",
        "history=cnn.fit(train_ds, validation_data=validation_ds, epochs=20,callbacks=[early_stop])\n",
        "\n"
      ]
    },
    {
      "cell_type": "code",
      "execution_count": null,
      "metadata": {
        "colab": {
          "base_uri": "https://localhost:8080/",
          "height": 430
        },
        "id": "5OmOGwPVUXeI",
        "outputId": "e37fb133-2a2f-4789-9e19-fdf8a5540cea"
      },
      "outputs": [],
      "source": [
        "import matplotlib.pyplot as plt\n",
        "\n",
        "plt.plot(history.history['accuracy'], label='Train Accuracy')\n",
        "plt.plot(history.history['val_accuracy'], label='Val Accuracy')\n",
        "plt.legend()\n",
        "plt.show()\n"
      ]
    },
    {
      "cell_type": "code",
      "execution_count": null,
      "metadata": {
        "colab": {
          "base_uri": "https://localhost:8080/"
        },
        "id": "KDT_sFII6iL6",
        "outputId": "c969c52a-7b76-41e2-c418-ed95b49d3bef"
      },
      "outputs": [],
      "source": [
        "from tensorflow.keras.preprocessing import image\n",
        "import numpy as np\n",
        "\n",
        "# Load and preprocess image\n",
        "img_path = \"/content/R.jpeg\"  # Update path as needed\n",
        "img = image.load_img(img_path, target_size=(128, 128))  # use 128x128 if that's your model input size\n",
        "img_array = image.img_to_array(img)\n",
        "img_array = img_array / 255.0  # Normalize\n",
        "img_array = np.expand_dims(img_array, axis=0)  # Add batch dimension\n",
        "prediction = cnn.predict(img_array)\n",
        "\n",
        "# Since it's binary classification, output will be probability\n",
        "print(\"Raw prediction:\", prediction[0][0])\n",
        "\n",
        "if prediction[0][0] > 0.5:\n",
        "    print(\"Prediction: Dog\")\n",
        "else:\n",
        "    print(\"Prediction: Cat\")\n"
      ]
    }
  ],
  "metadata": {
    "accelerator": "GPU",
    "colab": {
      "gpuType": "T4",
      "provenance": []
    },
    "kernelspec": {
      "display_name": "Python 3",
      "name": "python3"
    },
    "language_info": {
      "name": "python"
    }
  },
  "nbformat": 4,
  "nbformat_minor": 0
}
